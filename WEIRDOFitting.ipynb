{
 "cells": [
  {
   "cell_type": "markdown",
   "metadata": {},
   "source": [
    "This script is to recode the parameters in Brown et al. (2018) for WEIRDO to enable the fitting of xf and cf\n"
   ]
  },
  {
   "cell_type": "markdown",
   "metadata": {},
   "source": [
    "# Define functions used"
   ]
  },
  {
   "cell_type": "code",
   "execution_count": 29,
   "metadata": {},
   "outputs": [],
   "source": [
    "calc_HC <- function(cf, xf, rr, np){\n",
    "  #function to calculate hydraulic conductivity from cf xf\n",
    "  \n",
    "  # create a dataframe \n",
    "  df <- cbind.data.frame(rep(cf, length(rr)),rr,rep(xf, length(rr)), np)\n",
    "  volumetricFlow <- apply(df, 1, function(x){\n",
    "    aa <-as.numeric(x)\n",
    "    # vp <- cf* r^xf * np\n",
    "    y <- aa[1]*(aa[2]^aa[3])*aa[4]\n",
    "    y\n",
    "  })\n",
    "  poreCapillarity <- volumetricFlow/1e6*3600\n",
    "  kthetas <- cumsum(rev(poreCapillarity))\n",
    "  out <- data.frame('meanPoreRadius' = rr, \n",
    "                    'No_of_Pores' = np,\n",
    "                    'PoreCapillarity' = poreCapillarity,\n",
    "                    'HydraulicConductivity' = rev(kthetas))\n",
    "  return(out)\n",
    "}\n",
    "\n",
    "optimCFXF <- function(cfxf, rr, np, ksat){\n",
    "  # function to be optimised to obtain best xf and cf values\n",
    "  xf <- cfxf[1]\n",
    "  cf <- cfxf[2]\n",
    "  # create a dataframe \n",
    "  df <- cbind.data.frame(rep(cf, length(rr)),rr,rep(xf, length(rr)), np)\n",
    "  volumetricFlow <- apply(df, 1, function(x){\n",
    "    aa <-as.numeric(x)\n",
    "    # vp <- cf* r^xf * np\n",
    "    y <- aa[1]*(aa[2]^aa[3])*aa[4]\n",
    "    y\n",
    "  })\n",
    "  poreCapillarity <- volumetricFlow/1e6*3600\n",
    "  kcalc_sat <- sum(poreCapillarity)\n",
    "  out <- abs(ksat-kcalc_sat)\n",
    "  return(out)\n",
    "}"
   ]
  },
  {
   "cell_type": "markdown",
   "metadata": {},
   "source": [
    "# fit hermite splines to soil-water characteristic and the conductivity curve"
   ]
  },
  {
   "cell_type": "code",
   "execution_count": 3,
   "metadata": {},
   "outputs": [],
   "source": [
    "## general set-up"
   ]
  },
  {
   "cell_type": "code",
   "execution_count": 16,
   "metadata": {},
   "outputs": [],
   "source": [
    "mPotential <- -c(1,10, 1000, 150000, 6.09E7) # initialise psibub at -10\n",
    "\n",
    "# diameters of the boundaries for the 11 pore cohorts\n",
    "poreBoundaries <- poreDiameterUpper <- c(3000, 1194, 475, 189, 75, 30, 8.6, 2.47, 0.707, 0.202, 0.0005)\n",
    "poreDiameterLower <- c(poreDiameterUpper[2:11], 0)\n",
    "\n",
    "# get water potential at pore boundaries\n",
    "psiBoundary <- -30000/poreBoundaries\n",
    "\n",
    "# get the mean pore radii of pore cohort\n",
    "rr <- (poreDiameterUpper+poreDiameterLower)/4\n",
    "\n",
    "# get the soil attributes \n",
    "# (This is based on SoilSet 4592 for KParamFit, no data for theta at AirDry, using 0.001 to ensure positive waterRetentionCurve)\n",
    "thetas <- c(0.45, 0.45, 0.38, 0.20, 0.001)\n",
    "\n",
    "#setting psibub here\n",
    "psibub <- -100\n",
    "mPotential[2] <- psibub"
   ]
  },
  {
   "cell_type": "code",
   "execution_count": 17,
   "metadata": {},
   "outputs": [],
   "source": [
    "# fit the 5-point hermite spline \n",
    "waterRetentionC <- splinefun(x = mPotential, y = thetas, method = 'monoH.FC')"
   ]
  },
  {
   "cell_type": "code",
   "execution_count": 18,
   "metadata": {},
   "outputs": [],
   "source": [
    "# get thetas at pore boundaries using the fitted spline\n",
    "thetas.upperBound <- waterRetentionC(psiBoundary)\n",
    "thetas.lowerBound <- c(thetas.upperBound[2:11],0)\n",
    "# get the water volume in each pore cohort\n",
    "waterVolumePore <- thetas.upperBound-thetas.lowerBound\n",
    "\n",
    "# calculate number of pores in each pore cohort\n",
    "numbersPore <- waterVolumePore/((pi * rr^2)/10^12)"
   ]
  },
  {
   "cell_type": "markdown",
   "metadata": {},
   "source": [
    "# the hydraulic-flow model\n",
    "poiseuille flow and capillarity\n",
    "Arya et al. (1999)"
   ]
  },
  {
   "cell_type": "code",
   "execution_count": 19,
   "metadata": {},
   "outputs": [],
   "source": [
    "# calculate the hydraulic conductivity of this soil using optimisation\n",
    "# initialise at the value used in KParamFit in code block[32]\n",
    "cfxf <- optim(c(3.5, 5e-12), optimCFXF, rr = rr, np = numbersPore, ksat = 0.2359)\n",
    "while (cfxf$value != 0){\n",
    "  cfxf <- optim(cfxf$par, optimCFXF, rr = rr, np = numbersPore, ksat = 0.2359)\n",
    "}\n"
   ]
  },
  {
   "cell_type": "markdown",
   "metadata": {},
   "source": [
    "`r cfxf$par` are the values for XF and CF respectively "
   ]
  },
  {
   "cell_type": "markdown",
   "metadata": {},
   "source": [
    "## calculate hydraulic conductivity"
   ]
  },
  {
   "cell_type": "code",
   "execution_count": 30,
   "metadata": {},
   "outputs": [],
   "source": [
    "xf <- cfxf$par[1]\n",
    "cf <- cfxf$par[2]\n",
    "\n",
    "df.hc <- calc_HC(cf,xf, rr, numbersPore)"
   ]
  },
  {
   "cell_type": "markdown",
   "metadata": {},
   "source": [
    "## plot results to inspect"
   ]
  },
  {
   "cell_type": "markdown",
   "metadata": {},
   "source": [
    "### plot the spline"
   ]
  },
  {
   "cell_type": "code",
   "execution_count": 22,
   "metadata": {},
   "outputs": [
    {
     "data": {
      "image/png": "[encoded data removed]",
      "text/plain": [
       "plot without title"
      ]
     },
     "metadata": {},
     "output_type": "display_data"
    }
   ],
   "source": [
    "plot(log10(-mPotential), thetas, xlab = 'log10(-Suction)', \n",
    "     ylab = expression(theta*(\"mm\"^3/'mm'^3)))\n",
    "curve(waterRetentionC(-10^x, deriv = 0), add = T)"
   ]
  },
  {
   "cell_type": "markdown",
   "metadata": {},
   "source": [
    "### plot hydraulic conductivity"
   ]
  },
  {
   "cell_type": "code",
   "execution_count": 32,
   "metadata": {},
   "outputs": [
    {
     "data": {
      "image/png": "[encoded data removed]",
      "text/plain": [
       "plot without title"
      ]
     },
     "metadata": {},
     "output_type": "display_data"
    }
   ],
   "source": [
    "plot(log10(-psiBoundary), df.hc$HydraulicConductivity, xlab = 'log10(-Suction)', \n",
    "     ylab = 'Hydraulic conductivity (mm/h)')\n",
    "lines(log10(-psiBoundary), df.hc$HydraulicConductivity)"
   ]
  },
  {
   "cell_type": "code",
   "execution_count": 26,
   "metadata": {},
   "outputs": [
    {
     "data": {
      "text/html": [
       "<ol class=list-inline>\n",
       "\t<li>3.57388542664295</li>\n",
       "\t<li>8.39102339406755e-12</li>\n",
       "</ol>\n"
      ],
      "text/latex": [
       "\\begin{enumerate*}\n",
       "\\item 3.57388542664295\n",
       "\\item 8.39102339406755e-12\n",
       "\\end{enumerate*}\n"
      ],
      "text/markdown": [
       "1. 3.57388542664295\n",
       "2. 8.39102339406755e-12\n",
       "\n",
       "\n"
      ],
      "text/plain": [
       "[1] 3.573885e+00 8.391023e-12"
      ]
     },
     "metadata": {},
     "output_type": "display_data"
    }
   ],
   "source": [
    "cfxf$par"
   ]
  },
  {
   "cell_type": "code",
   "execution_count": 36,
   "metadata": {},
   "outputs": [
    {
     "data": {
      "text/html": [
       "<table>\n",
       "<thead><tr><th scope=col>meanPoreRadius</th><th scope=col>No_of_Pores</th><th scope=col>PoreCapillarity</th><th scope=col>HydraulicConductivity</th></tr></thead>\n",
       "<tbody>\n",
       "\t<tr><td>1048.5000   </td><td>0.000000e+00</td><td>0.0000      </td><td>0.2359      </td></tr>\n",
       "\t<tr><td> 417.2500   </td><td>0.000000e+00</td><td>0.0000      </td><td>0.2359      </td></tr>\n",
       "\t<tr><td> 166.0000   </td><td>9.730410e+03</td><td>0.0253      </td><td>0.2359      </td></tr>\n",
       "\t<tr><td>  66.0000   </td><td>1.246946e+06</td><td>0.1199      </td><td>0.2106      </td></tr>\n",
       "\t<tr><td>  26.2500   </td><td>2.406438e+07</td><td>0.0858      </td><td>0.0907      </td></tr>\n",
       "\t<tr><td>   9.6500   </td><td>3.031401e+07</td><td>0.0030      </td><td>0.0050      </td></tr>\n",
       "\t<tr><td>   2.7675   </td><td>1.187723e+09</td><td>0.0014      </td><td>0.0019      </td></tr>\n",
       "\t<tr><td>   0.7942   </td><td>3.775309e+10</td><td>0.0005      </td><td>0.0006      </td></tr>\n",
       "\t<tr><td>   0.2272   </td><td>4.174784e+11</td><td>0.0001      </td><td>0.0001      </td></tr>\n",
       "\t<tr><td>   0.0506   </td><td>2.469549e+13</td><td>0.0000      </td><td>0.0000      </td></tr>\n",
       "\t<tr><td>   0.0001   </td><td>2.371926e+16</td><td>0.0000      </td><td>0.0000      </td></tr>\n",
       "</tbody>\n",
       "</table>\n"
      ],
      "text/latex": [
       "\\begin{tabular}{r|llll}\n",
       " meanPoreRadius & No\\_of\\_Pores & PoreCapillarity & HydraulicConductivity\\\\\n",
       "\\hline\n",
       "\t 1048.5000    & 0.000000e+00 & 0.0000       & 0.2359      \\\\\n",
       "\t  417.2500    & 0.000000e+00 & 0.0000       & 0.2359      \\\\\n",
       "\t  166.0000    & 9.730410e+03 & 0.0253       & 0.2359      \\\\\n",
       "\t   66.0000    & 1.246946e+06 & 0.1199       & 0.2106      \\\\\n",
       "\t   26.2500    & 2.406438e+07 & 0.0858       & 0.0907      \\\\\n",
       "\t    9.6500    & 3.031401e+07 & 0.0030       & 0.0050      \\\\\n",
       "\t    2.7675    & 1.187723e+09 & 0.0014       & 0.0019      \\\\\n",
       "\t    0.7942    & 3.775309e+10 & 0.0005       & 0.0006      \\\\\n",
       "\t    0.2272    & 4.174784e+11 & 0.0001       & 0.0001      \\\\\n",
       "\t    0.0506    & 2.469549e+13 & 0.0000       & 0.0000      \\\\\n",
       "\t    0.0001    & 2.371926e+16 & 0.0000       & 0.0000      \\\\\n",
       "\\end{tabular}\n"
      ],
      "text/markdown": [
       "\n",
       "| meanPoreRadius | No_of_Pores | PoreCapillarity | HydraulicConductivity |\n",
       "|---|---|---|---|\n",
       "| 1048.5000    | 0.000000e+00 | 0.0000       | 0.2359       |\n",
       "|  417.2500    | 0.000000e+00 | 0.0000       | 0.2359       |\n",
       "|  166.0000    | 9.730410e+03 | 0.0253       | 0.2359       |\n",
       "|   66.0000    | 1.246946e+06 | 0.1199       | 0.2106       |\n",
       "|   26.2500    | 2.406438e+07 | 0.0858       | 0.0907       |\n",
       "|    9.6500    | 3.031401e+07 | 0.0030       | 0.0050       |\n",
       "|    2.7675    | 1.187723e+09 | 0.0014       | 0.0019       |\n",
       "|    0.7942    | 3.775309e+10 | 0.0005       | 0.0006       |\n",
       "|    0.2272    | 4.174784e+11 | 0.0001       | 0.0001       |\n",
       "|    0.0506    | 2.469549e+13 | 0.0000       | 0.0000       |\n",
       "|    0.0001    | 2.371926e+16 | 0.0000       | 0.0000       |\n",
       "\n"
      ],
      "text/plain": [
       "   meanPoreRadius No_of_Pores  PoreCapillarity HydraulicConductivity\n",
       "1  1048.5000      0.000000e+00 0.0000          0.2359               \n",
       "2   417.2500      0.000000e+00 0.0000          0.2359               \n",
       "3   166.0000      9.730410e+03 0.0253          0.2359               \n",
       "4    66.0000      1.246946e+06 0.1199          0.2106               \n",
       "5    26.2500      2.406438e+07 0.0858          0.0907               \n",
       "6     9.6500      3.031401e+07 0.0030          0.0050               \n",
       "7     2.7675      1.187723e+09 0.0014          0.0019               \n",
       "8     0.7942      3.775309e+10 0.0005          0.0006               \n",
       "9     0.2272      4.174784e+11 0.0001          0.0001               \n",
       "10    0.0506      2.469549e+13 0.0000          0.0000               \n",
       "11    0.0001      2.371926e+16 0.0000          0.0000               "
      ]
     },
     "metadata": {},
     "output_type": "display_data"
    }
   ],
   "source": [
    "round(df.hc, digits = 4)"
   ]
  },
  {
   "cell_type": "markdown",
   "metadata": {},
   "source": [
    "### Compare with the two-region model of hydraulic conductivity used in SWIM3 (Huth et al., 2012)"
   ]
  },
  {
   "cell_type": "markdown",
   "metadata": {},
   "source": [
    "#### define functions"
   ]
  },
  {
   "cell_type": "code",
   "execution_count": 38,
   "metadata": {},
   "outputs": [],
   "source": [
    "# hydraulic conductivity Huth et al. 2012---------------\n",
    "# calculating kmatrix, kDUL is assumed a notional value = 0.1 mm/day\n",
    "\n",
    "calcKmatrix <- function(kdul = 0.1, tdul, tsat, b){\n",
    "  kmat <- kdul/(tdul/tsat)^(2*b+3)\n",
    "  kmat\n",
    "}\n",
    "\n",
    "calcb <- function(psi.dul, psi.ll, tdul, tll){\n",
    "  b <- -log(psi.dul/psi.ll)/log(tdul/tll)\n",
    "  b\n",
    "}\n",
    "\n",
    "calcP <- function(kdul = 0.1, ksat, kmat, tdul, tsat){\n",
    "  p <- log(0.01*kdul/(ksat-kmat))/log(tdul/tsat)\n",
    "  p\n",
    "}\n",
    "\n",
    "calcKtheta <- function(kmat, theta, tsat, b, ksat, p){\n",
    "  k.theta <- kmat*((theta/tsat)^(2*b+3))+(ksat-kmat)*((theta/tsat)^p)\n",
    "  k.theta\n",
    "}"
   ]
  },
  {
   "cell_type": "code",
   "execution_count": 48,
   "metadata": {},
   "outputs": [],
   "source": [
    "# soil 4592\n",
    "bb <- calcb(1000,150000,0.38, 0.20)\n",
    "kmat <- calcKmatrix(10^-2, 0.38, 0.45, bb)\n",
    "pp <- calcP(10^-2, 0.2359, kmat, 0.38, 0.45)\n",
    "\n",
    "kall <- calcKtheta(kmat, thetas.upperBound, 0.45, bb, 0.2359, pp)"
   ]
  },
  {
   "cell_type": "code",
   "execution_count": 49,
   "metadata": {},
   "outputs": [
    {
     "data": {
      "text/html": [
       "<ol class=list-inline>\n",
       "\t<li>0.2359</li>\n",
       "\t<li>0.2359</li>\n",
       "\t<li>0.2359</li>\n",
       "\t<li>0.227803530498182</li>\n",
       "\t<li>0.110672067713231</li>\n",
       "\t<li>0.0101</li>\n",
       "\t<li>0.00650486316502232</li>\n",
       "\t<li>0.00146187174090073</li>\n",
       "\t<li>1.48421495635596e-05</li>\n",
       "\t<li>6.49919457903531e-08</li>\n",
       "\t<li>1.63021073290324e-49</li>\n",
       "</ol>\n"
      ],
      "text/latex": [
       "\\begin{enumerate*}\n",
       "\\item 0.2359\n",
       "\\item 0.2359\n",
       "\\item 0.2359\n",
       "\\item 0.227803530498182\n",
       "\\item 0.110672067713231\n",
       "\\item 0.0101\n",
       "\\item 0.00650486316502232\n",
       "\\item 0.00146187174090073\n",
       "\\item 1.48421495635596e-05\n",
       "\\item 6.49919457903531e-08\n",
       "\\item 1.63021073290324e-49\n",
       "\\end{enumerate*}\n"
      ],
      "text/markdown": [
       "1. 0.2359\n",
       "2. 0.2359\n",
       "3. 0.2359\n",
       "4. 0.227803530498182\n",
       "5. 0.110672067713231\n",
       "6. 0.0101\n",
       "7. 0.00650486316502232\n",
       "8. 0.00146187174090073\n",
       "9. 1.48421495635596e-05\n",
       "10. 6.49919457903531e-08\n",
       "11. 1.63021073290324e-49\n",
       "\n",
       "\n"
      ],
      "text/plain": [
       " [1] 2.359000e-01 2.359000e-01 2.359000e-01 2.278035e-01 1.106721e-01\n",
       " [6] 1.010000e-02 6.504863e-03 1.461872e-03 1.484215e-05 6.499195e-08\n",
       "[11] 1.630211e-49"
      ]
     },
     "metadata": {},
     "output_type": "display_data"
    }
   ],
   "source": [
    "kall"
   ]
  },
  {
   "cell_type": "code",
   "execution_count": 50,
   "metadata": {},
   "outputs": [
    {
     "data": {
      "text/html": [
       "<ol class=list-inline>\n",
       "\t<li>0.2359</li>\n",
       "\t<li>0.2359</li>\n",
       "\t<li>0.2359</li>\n",
       "\t<li>0.2106267824857</li>\n",
       "\t<li>0.0907302489000177</li>\n",
       "\t<li>0.00496769183349031</li>\n",
       "\t<li>0.00194531486330347</li>\n",
       "\t<li>0.000581349858825049</li>\n",
       "\t<li>8.07064843432606e-05</li>\n",
       "\t<li>1.74696561156348e-05</li>\n",
       "\t<li>8.05419367187223e-12</li>\n",
       "</ol>\n"
      ],
      "text/latex": [
       "\\begin{enumerate*}\n",
       "\\item 0.2359\n",
       "\\item 0.2359\n",
       "\\item 0.2359\n",
       "\\item 0.2106267824857\n",
       "\\item 0.0907302489000177\n",
       "\\item 0.00496769183349031\n",
       "\\item 0.00194531486330347\n",
       "\\item 0.000581349858825049\n",
       "\\item 8.07064843432606e-05\n",
       "\\item 1.74696561156348e-05\n",
       "\\item 8.05419367187223e-12\n",
       "\\end{enumerate*}\n"
      ],
      "text/markdown": [
       "1. 0.2359\n",
       "2. 0.2359\n",
       "3. 0.2359\n",
       "4. 0.2106267824857\n",
       "5. 0.0907302489000177\n",
       "6. 0.00496769183349031\n",
       "7. 0.00194531486330347\n",
       "8. 0.000581349858825049\n",
       "9. 8.07064843432606e-05\n",
       "10. 1.74696561156348e-05\n",
       "11. 8.05419367187223e-12\n",
       "\n",
       "\n"
      ],
      "text/plain": [
       " [1] 2.359000e-01 2.359000e-01 2.359000e-01 2.106268e-01 9.073025e-02\n",
       " [6] 4.967692e-03 1.945315e-03 5.813499e-04 8.070648e-05 1.746966e-05\n",
       "[11] 8.054194e-12"
      ]
     },
     "metadata": {},
     "output_type": "display_data"
    }
   ],
   "source": [
    "df.hc$HydraulicConductivity"
   ]
  },
  {
   "cell_type": "code",
   "execution_count": null,
   "metadata": {},
   "outputs": [],
   "source": []
  }
 ],
 "metadata": {
  "kernelspec": {
   "display_name": "R",
   "language": "R",
   "name": "ir"
  },
  "language_info": {
   "codemirror_mode": "r",
   "file_extension": ".r",
   "mimetype": "text/x-r-source",
   "name": "R",
   "pygments_lexer": "r",
   "version": "3.6.1"
  }
 },
 "nbformat": 4,
 "nbformat_minor": 4
}
